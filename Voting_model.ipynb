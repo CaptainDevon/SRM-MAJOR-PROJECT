{
 "cells": [
  {
   "cell_type": "code",
   "execution_count": 74,
   "metadata": {},
   "outputs": [
    {
     "data": {
      "text/html": [
       "        <script type=\"text/javascript\">\n",
       "        window.PlotlyConfig = {MathJaxConfig: 'local'};\n",
       "        if (window.MathJax && window.MathJax.Hub && window.MathJax.Hub.Config) {window.MathJax.Hub.Config({SVG: {font: \"STIX-Web\"}});}\n",
       "        if (typeof require !== 'undefined') {\n",
       "        require.undef(\"plotly\");\n",
       "        requirejs.config({\n",
       "            paths: {\n",
       "                'plotly': ['https://cdn.plot.ly/plotly-2.32.0.min']\n",
       "            }\n",
       "        });\n",
       "        require(['plotly'], function(Plotly) {\n",
       "            window._Plotly = Plotly;\n",
       "        });\n",
       "        }\n",
       "        </script>\n",
       "        "
      ]
     },
     "metadata": {},
     "output_type": "display_data"
    }
   ],
   "source": [
    "import numpy as np  \n",
    "import pandas as pd  \n",
    "import matplotlib.pyplot as plt  \n",
    "import plotly.express as px  \n",
    "from plotly.offline import init_notebook_mode, iplot  \n",
    "init_notebook_mode(connected=True)  \n",
    "\n",
    "from sklearn.preprocessing import StandardScaler  \n",
    "from sklearn.decomposition import PCA  \n",
    "from sklearn.svm import SVC\n",
    "from sklearn.model_selection import train_test_split, cross_val_score, GridSearchCV, RandomizedSearchCV  \n",
    "from sklearn.metrics import accuracy_score, precision_score, recall_score, f1_score, classification_report \n",
    "import pickle  \n",
    "\n",
    "from sklearn.ensemble import VotingClassifier, StackingClassifier, RandomForestClassifier\n",
    "from sklearn.tree import DecisionTreeClassifier\n",
    "from sklearn.linear_model import LogisticRegression\n",
    "\n",
    "from sklearn.model_selection import GridSearchCV"
   ]
  },
  {
   "cell_type": "code",
   "execution_count": 75,
   "metadata": {},
   "outputs": [],
   "source": [
    "dataSet = pd.read_csv('college_place.csv')"
   ]
  },
  {
   "cell_type": "code",
   "execution_count": 76,
   "metadata": {},
   "outputs": [
    {
     "data": {
      "text/plain": [
       "(2966, 8)"
      ]
     },
     "execution_count": 76,
     "metadata": {},
     "output_type": "execute_result"
    }
   ],
   "source": [
    "dataSet.shape"
   ]
  },
  {
   "cell_type": "code",
   "execution_count": 77,
   "metadata": {},
   "outputs": [
    {
     "data": {
      "text/html": [
       "<div>\n",
       "<style scoped>\n",
       "    .dataframe tbody tr th:only-of-type {\n",
       "        vertical-align: middle;\n",
       "    }\n",
       "\n",
       "    .dataframe tbody tr th {\n",
       "        vertical-align: top;\n",
       "    }\n",
       "\n",
       "    .dataframe thead th {\n",
       "        text-align: right;\n",
       "    }\n",
       "</style>\n",
       "<table border=\"1\" class=\"dataframe\">\n",
       "  <thead>\n",
       "    <tr style=\"text-align: right;\">\n",
       "      <th></th>\n",
       "      <th>Age</th>\n",
       "      <th>Gender</th>\n",
       "      <th>Stream</th>\n",
       "      <th>Internships</th>\n",
       "      <th>CGPA</th>\n",
       "      <th>Hostel</th>\n",
       "      <th>HistoryOfBacklogs</th>\n",
       "      <th>PlacedOrNot</th>\n",
       "    </tr>\n",
       "  </thead>\n",
       "  <tbody>\n",
       "    <tr>\n",
       "      <th>0</th>\n",
       "      <td>22</td>\n",
       "      <td>Male</td>\n",
       "      <td>Electronics And Communication</td>\n",
       "      <td>1</td>\n",
       "      <td>8</td>\n",
       "      <td>1</td>\n",
       "      <td>1</td>\n",
       "      <td>1</td>\n",
       "    </tr>\n",
       "    <tr>\n",
       "      <th>1</th>\n",
       "      <td>21</td>\n",
       "      <td>Female</td>\n",
       "      <td>Computer Science</td>\n",
       "      <td>0</td>\n",
       "      <td>7</td>\n",
       "      <td>1</td>\n",
       "      <td>1</td>\n",
       "      <td>1</td>\n",
       "    </tr>\n",
       "    <tr>\n",
       "      <th>2</th>\n",
       "      <td>22</td>\n",
       "      <td>Female</td>\n",
       "      <td>Information Technology</td>\n",
       "      <td>1</td>\n",
       "      <td>6</td>\n",
       "      <td>0</td>\n",
       "      <td>0</td>\n",
       "      <td>1</td>\n",
       "    </tr>\n",
       "    <tr>\n",
       "      <th>3</th>\n",
       "      <td>21</td>\n",
       "      <td>Male</td>\n",
       "      <td>Information Technology</td>\n",
       "      <td>0</td>\n",
       "      <td>8</td>\n",
       "      <td>0</td>\n",
       "      <td>1</td>\n",
       "      <td>1</td>\n",
       "    </tr>\n",
       "    <tr>\n",
       "      <th>4</th>\n",
       "      <td>22</td>\n",
       "      <td>Male</td>\n",
       "      <td>Mechanical</td>\n",
       "      <td>0</td>\n",
       "      <td>8</td>\n",
       "      <td>1</td>\n",
       "      <td>0</td>\n",
       "      <td>1</td>\n",
       "    </tr>\n",
       "  </tbody>\n",
       "</table>\n",
       "</div>"
      ],
      "text/plain": [
       "   Age  Gender                         Stream  Internships  CGPA  Hostel  \\\n",
       "0   22    Male  Electronics And Communication            1     8       1   \n",
       "1   21  Female               Computer Science            0     7       1   \n",
       "2   22  Female         Information Technology            1     6       0   \n",
       "3   21    Male         Information Technology            0     8       0   \n",
       "4   22    Male                     Mechanical            0     8       1   \n",
       "\n",
       "   HistoryOfBacklogs  PlacedOrNot  \n",
       "0                  1            1  \n",
       "1                  1            1  \n",
       "2                  0            1  \n",
       "3                  1            1  \n",
       "4                  0            1  "
      ]
     },
     "execution_count": 77,
     "metadata": {},
     "output_type": "execute_result"
    }
   ],
   "source": [
    "dataSet.head()"
   ]
  },
  {
   "cell_type": "code",
   "execution_count": 78,
   "metadata": {},
   "outputs": [
    {
     "data": {
      "text/plain": [
       "Age                   int64\n",
       "Gender               object\n",
       "Stream               object\n",
       "Internships           int64\n",
       "CGPA                  int64\n",
       "Hostel                int64\n",
       "HistoryOfBacklogs     int64\n",
       "PlacedOrNot           int64\n",
       "dtype: object"
      ]
     },
     "execution_count": 78,
     "metadata": {},
     "output_type": "execute_result"
    }
   ],
   "source": [
    "dataSet.dtypes"
   ]
  },
  {
   "cell_type": "code",
   "execution_count": null,
   "metadata": {},
   "outputs": [
    {
     "data": {
      "text/plain": [
       "(2966, 8)"
      ]
     },
     "execution_count": 79,
     "metadata": {},
     "output_type": "execute_result"
    }
   ],
   "source": [
    "dataSet.shape"
   ]
  },
  {
   "cell_type": "code",
   "execution_count": 80,
   "metadata": {},
   "outputs": [],
   "source": [
    "dataSet['Gender']=dataSet['Gender'].map({'Male':1,'Female':0})\n",
    "\n"
   ]
  },
  {
   "cell_type": "code",
   "execution_count": 81,
   "metadata": {},
   "outputs": [],
   "source": [
    "dataSet['Stream'] = dataSet['Stream'].map({'Electronics And Communication': 1,  \n",
    "                                 'Computer Science': 2,  \n",
    "                                'Information Technology': 3,  \n",
    "                                'Mechanical':4,  \n",
    "                                'Electrical':5,  \n",
    "                                'Civil':6})  "
   ]
  },
  {
   "cell_type": "code",
   "execution_count": 82,
   "metadata": {},
   "outputs": [],
   "source": [
    "X=dataSet.iloc[:,0:7]\n",
    "Y=dataSet.iloc[:,-1]"
   ]
  },
  {
   "cell_type": "code",
   "execution_count": 92,
   "metadata": {},
   "outputs": [],
   "source": [
    "\n",
    "X = np.array(X)  \n",
    "Y = np.array(Y)  \n",
    "\n",
    "\n",
    "data = np.column_stack((X, Y))  \n",
    "\n",
    "\n",
    "np.random.shuffle(data)\n",
    "\n",
    "\n",
    "split_ratio = 0.7\n",
    "train_size = int(len(data) * split_ratio)\n",
    "\n",
    "\n",
    "train_data = data[:train_size]\n",
    "test_data = data[train_size:]\n",
    "\n",
    "X_train = train_data[:, :-1]  \n",
    "Y_train = train_data[:, -1]  \n",
    "\n",
    "X_test = test_data[:, :-1]    \n",
    "Y_test = test_data[:, -1]  "
   ]
  },
  {
   "cell_type": "code",
   "execution_count": 94,
   "metadata": {},
   "outputs": [
    {
     "name": "stdout",
     "output_type": "stream",
     "text": [
      "Decision Tree Accuracy: 0.8708\n",
      "Decision Tree Report:\n",
      "               precision    recall  f1-score   support\n",
      "\n",
      "           0       0.82      0.90      0.86       381\n",
      "           1       0.92      0.85      0.88       509\n",
      "\n",
      "    accuracy                           0.87       890\n",
      "   macro avg       0.87      0.87      0.87       890\n",
      "weighted avg       0.88      0.87      0.87       890\n",
      "\n"
     ]
    }
   ],
   "source": [
    "decisionTreeModel=DecisionTreeClassifier(random_state=0)\n",
    "decisionTreeModel.fit(X_train,Y_train)\n",
    "\n",
    "\n",
    "decisionTreeModel_prediction=decisionTreeModel.predict(X_test)\n",
    "\n",
    "decisionTreeModel_accuracy=accuracy_score(Y_test,decisionTreeModel_prediction)\n",
    "\n",
    "print(f\"Decision Tree Accuracy: {decisionTreeModel_accuracy:.4f}\")\n",
    "print(\"Decision Tree Report:\\n\", classification_report(Y_test, decisionTreeModel_prediction))"
   ]
  },
  {
   "cell_type": "code",
   "execution_count": 85,
   "metadata": {},
   "outputs": [
    {
     "name": "stdout",
     "output_type": "stream",
     "text": [
      "Random Forest Accuracy: 0.8685\n",
      "Random Forest Report:\n",
      "               precision    recall  f1-score   support\n",
      "\n",
      "           0       0.78      0.96      0.86       379\n",
      "           1       0.97      0.80      0.87       511\n",
      "\n",
      "    accuracy                           0.87       890\n",
      "   macro avg       0.87      0.88      0.87       890\n",
      "weighted avg       0.89      0.87      0.87       890\n",
      "\n"
     ]
    }
   ],
   "source": [
    "RandomForestModel=RandomForestClassifier(max_depth=10,random_state=0)\n",
    "RandomForestModel.fit(X_train,Y_train)\n",
    "\n",
    "RandomForestModel_prediction=RandomForestModel.predict(X_test)\n",
    "\n",
    "RandomForestModel_accuracy=accuracy_score(Y_test,RandomForestModel_prediction)\n",
    "\n",
    "print(f\"Random Forest Accuracy: {RandomForestModel_accuracy:.4f}\")\n",
    "print(\"Random Forest Report:\\n\", classification_report(Y_test, RandomForestModel_prediction))"
   ]
  },
  {
   "cell_type": "code",
   "execution_count": 95,
   "metadata": {},
   "outputs": [
    {
     "name": "stdout",
     "output_type": "stream",
     "text": [
      "Ensemble Model Accuracy: 0.8820\n",
      "Ensemble Model Report:\n",
      "               precision    recall  f1-score   support\n",
      "\n",
      "           0       0.80      0.97      0.88       381\n",
      "           1       0.97      0.82      0.89       509\n",
      "\n",
      "    accuracy                           0.88       890\n",
      "   macro avg       0.89      0.89      0.88       890\n",
      "weighted avg       0.90      0.88      0.88       890\n",
      "\n"
     ]
    }
   ],
   "source": [
    "ensemble_model=VotingClassifier(estimators=[\n",
    "    ('decision_tree',decisionTreeModel),\n",
    "    ('random_forest',RandomForestModel)],voting='hard')\n",
    "\n",
    "ensemble_model.fit(X_train,Y_train)\n",
    "\n",
    "ensemble_model_prediction=ensemble_model.predict(X_test)\n",
    "\n",
    "ensemble_model_accuracy=accuracy_score(Y_test,ensemble_model_prediction)\n",
    "\n",
    "print(f\"Ensemble Model Accuracy: {ensemble_model_accuracy:.4f}\")\n",
    "print(\"Ensemble Model Report:\\n\", classification_report(Y_test, ensemble_model_prediction))"
   ]
  },
  {
   "cell_type": "code",
   "execution_count": 96,
   "metadata": {},
   "outputs": [
    {
     "name": "stdout",
     "output_type": "stream",
     "text": [
      "Fitting 5 folds for each of 36 candidates, totalling 180 fits\n",
      "Fitting 5 folds for each of 36 candidates, totalling 180 fits\n",
      "Voting Classifier (Tuned Decision Tree + Tuned RF) Accuracy: 0.8910\n",
      "Classification Report:\n",
      "               precision    recall  f1-score   support\n",
      "\n",
      "           0       0.80      0.99      0.89       381\n",
      "           1       0.99      0.82      0.90       509\n",
      "\n",
      "    accuracy                           0.89       890\n",
      "   macro avg       0.90      0.90      0.89       890\n",
      "weighted avg       0.91      0.89      0.89       890\n",
      "\n",
      "Best Decision Tree Parameters: {'max_depth': 10, 'min_samples_leaf': 1, 'min_samples_split': 10}\n",
      "Best Random Forest Parameters: {'max_depth': 10, 'min_samples_split': 2, 'n_estimators': 300}\n"
     ]
    }
   ],
   "source": [
    "from sklearn.tree import DecisionTreeClassifier\n",
    "from sklearn.ensemble import RandomForestClassifier, VotingClassifier\n",
    "from sklearn.model_selection import GridSearchCV\n",
    "from sklearn.metrics import accuracy_score, classification_report\n",
    "\n",
    "dt_param_grid = {\n",
    "    'max_depth': [5, 10, 20, None],\n",
    "    'min_samples_split': [2, 5, 10],\n",
    "    'min_samples_leaf': [1, 2, 4]\n",
    "}\n",
    "\n",
    "rf_param_grid = {\n",
    "    'n_estimators': [100, 200, 300],\n",
    "    'max_depth': [5, 10, 20, None],\n",
    "    'min_samples_split': [2, 5, 10]\n",
    "}\n",
    "\n",
    "dt = DecisionTreeClassifier(random_state=0)\n",
    "rf = RandomForestClassifier(random_state=0)\n",
    "\n",
    "dt_grid = GridSearchCV(dt, dt_param_grid, cv=5, n_jobs=-1, verbose=1)\n",
    "rf_grid = GridSearchCV(rf, rf_param_grid, cv=5, n_jobs=-1, verbose=1)\n",
    "\n",
    "dt_grid.fit(X_train, Y_train)\n",
    "rf_grid.fit(X_train, Y_train)\n",
    "\n",
    "best_dt = dt_grid.best_estimator_\n",
    "best_rf = rf_grid.best_estimator_\n",
    "\n",
    "voting_clf = VotingClassifier(estimators=[\n",
    "    ('decision_tree', best_dt),\n",
    "    ('random_forest', best_rf)\n",
    "], voting='hard')\n",
    "\n",
    "voting_clf.fit(X_train, Y_train)\n",
    "y_pred_voting = voting_clf.predict(X_test)\n",
    "\n",
    "accuracy_voting = accuracy_score(Y_test, y_pred_voting)\n",
    "print(f\"Voting Classifier (Tuned Decision Tree + Tuned RF) Accuracy: {accuracy_voting:.4f}\")\n",
    "print(\"Classification Report:\\n\", classification_report(Y_test, y_pred_voting))\n",
    "\n",
    "print(\"Best Decision Tree Parameters:\", dt_grid.best_params_)\n",
    "print(\"Best Random Forest Parameters:\", rf_grid.best_params_)\n"
   ]
  },
  {
   "cell_type": "code",
   "execution_count": null,
   "metadata": {},
   "outputs": [],
   "source": []
  }
 ],
 "metadata": {
  "kernelspec": {
   "display_name": "Python 3",
   "language": "python",
   "name": "python3"
  },
  "language_info": {
   "codemirror_mode": {
    "name": "ipython",
    "version": 3
   },
   "file_extension": ".py",
   "mimetype": "text/x-python",
   "name": "python",
   "nbconvert_exporter": "python",
   "pygments_lexer": "ipython3",
   "version": "3.12.1"
  }
 },
 "nbformat": 4,
 "nbformat_minor": 2
}
